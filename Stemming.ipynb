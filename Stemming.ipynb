{
  "nbformat": 4,
  "nbformat_minor": 0,
  "metadata": {
    "colab": {
      "provenance": [],
      "authorship_tag": "ABX9TyM+grjfLFJztgXA6DOZ1BaA",
      "include_colab_link": true
    },
    "kernelspec": {
      "name": "python3",
      "display_name": "Python 3"
    },
    "language_info": {
      "name": "python"
    }
  },
  "cells": [
    {
      "cell_type": "markdown",
      "metadata": {
        "id": "view-in-github",
        "colab_type": "text"
      },
      "source": [
        "<a href=\"https://colab.research.google.com/github/CasperCoder/intro_to_NLP/blob/main/Stemming.ipynb\" target=\"_parent\"><img src=\"https://colab.research.google.com/assets/colab-badge.svg\" alt=\"Open In Colab\"/></a>"
      ]
    },
    {
      "cell_type": "code",
      "execution_count": null,
      "metadata": {
        "id": "GYaHxHFrj5SK"
      },
      "outputs": [],
      "source": [
        "from nltk.stem import PorterStemmer"
      ]
    },
    {
      "cell_type": "code",
      "source": [
        "ps = PorterStemmer()"
      ],
      "metadata": {
        "id": "HsydqQFqkBEg"
      },
      "execution_count": null,
      "outputs": []
    },
    {
      "cell_type": "code",
      "source": [
        "connect_tokens = ['connecting', 'connected', 'connectivity', 'connect', 'connects']"
      ],
      "metadata": {
        "id": "Atn-s4UbkG9j"
      },
      "execution_count": null,
      "outputs": []
    },
    {
      "cell_type": "code",
      "source": [
        "for t in connect_tokens:\n",
        "  print(t, \": \", ps.stem(t))"
      ],
      "metadata": {
        "colab": {
          "base_uri": "https://localhost:8080/"
        },
        "id": "FXqewi2zkXhW",
        "outputId": "0beb03e2-14cf-4e7f-ae97-452e9e1aa412"
      },
      "execution_count": null,
      "outputs": [
        {
          "output_type": "stream",
          "name": "stdout",
          "text": [
            "connecting :  connect\n",
            "connected :  connect\n",
            "connectivity :  connect\n",
            "connect :  connect\n",
            "connects :  connect\n"
          ]
        }
      ]
    },
    {
      "cell_type": "code",
      "source": [
        "learn_tokens = ['learning', 'learns', 'learn', 'learned', 'learner', 'learners']"
      ],
      "metadata": {
        "id": "XKJ_9O_qkf8n"
      },
      "execution_count": null,
      "outputs": []
    },
    {
      "cell_type": "code",
      "source": [
        "for t in learn_tokens:\n",
        "  print(t, \": \", ps.stem(t))"
      ],
      "metadata": {
        "colab": {
          "base_uri": "https://localhost:8080/"
        },
        "id": "SxqI3QPBkuPH",
        "outputId": "4d436547-d078-4c3c-9f98-349e7555bf3d"
      },
      "execution_count": null,
      "outputs": [
        {
          "output_type": "stream",
          "name": "stdout",
          "text": [
            "learning :  learn\n",
            "learns :  learn\n",
            "learn :  learn\n",
            "learned :  learn\n",
            "learner :  learner\n",
            "learners :  learner\n"
          ]
        }
      ]
    },
    {
      "cell_type": "code",
      "source": [
        "likes_tokens = ['likes', 'better', 'worse']"
      ],
      "metadata": {
        "id": "p9_re2g8k1Xw"
      },
      "execution_count": null,
      "outputs": []
    },
    {
      "cell_type": "code",
      "source": [
        "for t in likes_tokens:\n",
        "  print(t, \": \", ps.stem(t))"
      ],
      "metadata": {
        "colab": {
          "base_uri": "https://localhost:8080/"
        },
        "id": "1ldxErL8lAAg",
        "outputId": "1330262c-c4d1-4d2e-a120-7ab8522c0fdb"
      },
      "execution_count": null,
      "outputs": [
        {
          "output_type": "stream",
          "name": "stdout",
          "text": [
            "likes :  like\n",
            "better :  better\n",
            "worse :  wors\n"
          ]
        }
      ]
    },
    {
      "cell_type": "code",
      "source": [],
      "metadata": {
        "id": "pA6ze05LlGjl"
      },
      "execution_count": null,
      "outputs": []
    }
  ]
}