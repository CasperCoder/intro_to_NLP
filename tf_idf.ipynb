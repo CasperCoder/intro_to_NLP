{
  "nbformat": 4,
  "nbformat_minor": 0,
  "metadata": {
    "colab": {
      "provenance": [],
      "authorship_tag": "ABX9TyMPNAj4ZgCeyeS9TcWpiW3U",
      "include_colab_link": true
    },
    "kernelspec": {
      "name": "python3",
      "display_name": "Python 3"
    },
    "language_info": {
      "name": "python"
    }
  },
  "cells": [
    {
      "cell_type": "markdown",
      "metadata": {
        "id": "view-in-github",
        "colab_type": "text"
      },
      "source": [
        "<a href=\"https://colab.research.google.com/github/CasperCoder/intro_to_NLP/blob/main/tf_idf.ipynb\" target=\"_parent\"><img src=\"https://colab.research.google.com/assets/colab-badge.svg\" alt=\"Open In Colab\"/></a>"
      ]
    },
    {
      "cell_type": "code",
      "execution_count": 1,
      "metadata": {
        "id": "ZMA0J3U3FwOx"
      },
      "outputs": [],
      "source": [
        "import pandas as pd\n",
        "from sklearn.feature_extraction.text import CountVectorizer"
      ]
    },
    {
      "cell_type": "code",
      "source": [
        "data = [' Most shark attacks occur about 10 feet from the beach since that is where the people are',\n",
        "        'the efficiency with which he paired the socks in the drawer was quite admirable',\n",
        "        'carol drank the blood as if she were a vampire',\n",
        "        'giving directions that the mountains are to the west only works when you can see them',\n",
        "        'the sign said there was road work ahead so he decided to speed up',\n",
        "        'the gruff old man sat in the back of the bait shop grumbling to himself as he scooped out a handful of worms']\n",
        "\n",
        "\n",
        "\n"
      ],
      "metadata": {
        "id": "3Y4-e6NlF44y"
      },
      "execution_count": 2,
      "outputs": []
    },
    {
      "cell_type": "code",
      "source": [
        "countvec = CountVectorizer()"
      ],
      "metadata": {
        "id": "sQ_jalW2GCg6"
      },
      "execution_count": 3,
      "outputs": []
    },
    {
      "cell_type": "code",
      "source": [
        "\n",
        "countvec_fit = countvec.fit_transform(data)"
      ],
      "metadata": {
        "id": "9AmF2-1VGKDi"
      },
      "execution_count": 4,
      "outputs": []
    },
    {
      "cell_type": "code",
      "source": [
        "bag_of_words = pd.DataFrame(countvec_fit.toarray(), columns=countvec.get_feature_names_out())"
      ],
      "metadata": {
        "id": "T-V40vmzGPpi"
      },
      "execution_count": 5,
      "outputs": []
    },
    {
      "cell_type": "code",
      "source": [
        "print(bag_of_words)"
      ],
      "metadata": {
        "colab": {
          "base_uri": "https://localhost:8080/"
        },
        "id": "Zfijhp3wGhtD",
        "outputId": "c1b79af7-d081-4e54-a2d4-00a50a842bce"
      },
      "execution_count": 6,
      "outputs": [
        {
          "output_type": "stream",
          "name": "stdout",
          "text": [
            "   10  about  admirable  ahead  are  as  attacks  back  bait  beach  ...  \\\n",
            "0   1      1          0      0    1   0        1     0     0      1  ...   \n",
            "1   0      0          1      0    0   0        0     0     0      0  ...   \n",
            "2   0      0          0      0    0   1        0     0     0      0  ...   \n",
            "3   0      0          0      0    1   0        0     0     0      0  ...   \n",
            "4   0      0          0      1    0   0        0     0     0      0  ...   \n",
            "5   0      0          0      0    0   1        0     1     1      0  ...   \n",
            "\n",
            "   were  west  when  where  which  with  work  works  worms  you  \n",
            "0     0     0     0      1      0     0     0      0      0    0  \n",
            "1     0     0     0      0      1     1     0      0      0    0  \n",
            "2     1     0     0      0      0     0     0      0      0    0  \n",
            "3     0     1     1      0      0     0     0      1      0    1  \n",
            "4     0     0     0      0      0     0     1      0      0    0  \n",
            "5     0     0     0      0      0     0     0      0      1    0  \n",
            "\n",
            "[6 rows x 71 columns]\n"
          ]
        }
      ]
    },
    {
      "cell_type": "code",
      "source": [
        "from sklearn.feature_extraction.text import TfidfVectorizer"
      ],
      "metadata": {
        "id": "JCETflf5GkRu"
      },
      "execution_count": 7,
      "outputs": []
    },
    {
      "cell_type": "code",
      "source": [
        "tfidfvec = TfidfVectorizer()"
      ],
      "metadata": {
        "id": "yv3j1x-kHm-u"
      },
      "execution_count": 9,
      "outputs": []
    },
    {
      "cell_type": "code",
      "source": [
        "tfidfvec_fit = tfidfvec.fit_transform(data)"
      ],
      "metadata": {
        "id": "6W1EzJ3THp_x"
      },
      "execution_count": 10,
      "outputs": []
    },
    {
      "cell_type": "code",
      "source": [
        "tfidf_bag = pd.DataFrame(tfidfvec_fit.toarray(), columns=tfidfvec.get_feature_names_out())"
      ],
      "metadata": {
        "id": "z39gUUIVHzXa"
      },
      "execution_count": 12,
      "outputs": []
    },
    {
      "cell_type": "code",
      "source": [
        "print(tfidf_bag)"
      ],
      "metadata": {
        "colab": {
          "base_uri": "https://localhost:8080/"
        },
        "id": "yNLJzlvIICcm",
        "outputId": "37ca1112-b131-44db-956e-cf34c8dfaa1d"
      },
      "execution_count": 13,
      "outputs": [
        {
          "output_type": "stream",
          "name": "stdout",
          "text": [
            "         10     about  admirable     ahead       are        as   attacks  \\\n",
            "0  0.257061  0.257061   0.000000  0.000000  0.210794  0.000000  0.257061   \n",
            "1  0.000000  0.000000   0.293641  0.000000  0.000000  0.000000  0.000000   \n",
            "2  0.000000  0.000000   0.000000  0.000000  0.000000  0.292313  0.000000   \n",
            "3  0.000000  0.000000   0.000000  0.000000  0.222257  0.000000  0.000000   \n",
            "4  0.000000  0.000000   0.000000  0.290766  0.000000  0.000000  0.000000   \n",
            "5  0.000000  0.000000   0.000000  0.000000  0.000000  0.178615  0.000000   \n",
            "\n",
            "      back     bait     beach  ...      were     west     when     where  \\\n",
            "0  0.00000  0.00000  0.257061  ...  0.000000  0.00000  0.00000  0.257061   \n",
            "1  0.00000  0.00000  0.000000  ...  0.000000  0.00000  0.00000  0.000000   \n",
            "2  0.00000  0.00000  0.000000  ...  0.356474  0.00000  0.00000  0.000000   \n",
            "3  0.00000  0.00000  0.000000  ...  0.000000  0.27104  0.27104  0.000000   \n",
            "4  0.00000  0.00000  0.000000  ...  0.000000  0.00000  0.00000  0.000000   \n",
            "5  0.21782  0.21782  0.000000  ...  0.000000  0.00000  0.00000  0.000000   \n",
            "\n",
            "      which      with      work    works    worms      you  \n",
            "0  0.000000  0.000000  0.000000  0.00000  0.00000  0.00000  \n",
            "1  0.293641  0.293641  0.000000  0.00000  0.00000  0.00000  \n",
            "2  0.000000  0.000000  0.000000  0.00000  0.00000  0.00000  \n",
            "3  0.000000  0.000000  0.000000  0.27104  0.00000  0.27104  \n",
            "4  0.000000  0.000000  0.290766  0.00000  0.00000  0.00000  \n",
            "5  0.000000  0.000000  0.000000  0.00000  0.21782  0.00000  \n",
            "\n",
            "[6 rows x 71 columns]\n"
          ]
        }
      ]
    },
    {
      "cell_type": "code",
      "source": [],
      "metadata": {
        "id": "4qlFs8F1IISi"
      },
      "execution_count": null,
      "outputs": []
    }
  ]
}